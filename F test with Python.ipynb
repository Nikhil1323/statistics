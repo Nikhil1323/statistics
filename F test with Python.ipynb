{
 "cells": [
  {
   "cell_type": "markdown",
   "id": "e6944f73-304f-495a-9215-080fc67119ba",
   "metadata": {},
   "source": [
    "# F Test with Python"
   ]
  },
  {
   "cell_type": "code",
   "execution_count": 1,
   "id": "3279118a-0ce4-4100-a5b0-c1b356903374",
   "metadata": {},
   "outputs": [],
   "source": [
    "# Evidence to say that two population variances are not equal\n",
    "## Both the performance is different\n",
    "worker1 = [18,19,22,25,27,28,41,45,51,55]\n",
    "worker2 = [14,15,15,17,18,22,25,25,27,34]"
   ]
  },
  {
   "cell_type": "code",
   "execution_count": 4,
   "id": "74b02453-e232-4600-9afe-4b444c490261",
   "metadata": {},
   "outputs": [],
   "source": [
    "## Calculating F Test\n",
    "import numpy as np\n",
    "f_test = np.var(worker1)/np.var(worker2)"
   ]
  },
  {
   "cell_type": "code",
   "execution_count": 5,
   "id": "74597196-9e68-42d2-9452-5b46efc0c52d",
   "metadata": {},
   "outputs": [
    {
     "data": {
      "text/plain": [
       "4.387122002085506"
      ]
     },
     "execution_count": 5,
     "metadata": {},
     "output_type": "execute_result"
    }
   ],
   "source": [
    "f_test"
   ]
  },
  {
   "cell_type": "code",
   "execution_count": 8,
   "id": "d2af1edb-7eb9-4170-83eb-9590f4e2c49f",
   "metadata": {},
   "outputs": [],
   "source": [
    "## Degree of Freedoms\n",
    "df1 = len(worker1) - 1\n",
    "df2 = len(worker2) - 1\n",
    "significance_value = 0.05"
   ]
  },
  {
   "cell_type": "code",
   "execution_count": 9,
   "id": "816dcbc5-180b-4d9f-8163-0601f5db4406",
   "metadata": {},
   "outputs": [],
   "source": [
    "import scipy.stats as stat"
   ]
  },
  {
   "cell_type": "code",
   "execution_count": 11,
   "id": "a3e02e53-5e8a-4c29-a95b-016a6369642c",
   "metadata": {},
   "outputs": [],
   "source": [
    "critical_value = stat.f.ppf(q = 1- significance_value,dfn =df1,dfd = df2)"
   ]
  },
  {
   "cell_type": "code",
   "execution_count": 12,
   "id": "8cb06ca8-d85f-45fe-a889-85cb5aac9bea",
   "metadata": {},
   "outputs": [
    {
     "data": {
      "text/plain": [
       "3.178893104458269"
      ]
     },
     "execution_count": 12,
     "metadata": {},
     "output_type": "execute_result"
    }
   ],
   "source": [
    "critical_value"
   ]
  },
  {
   "cell_type": "code",
   "execution_count": 13,
   "id": "cb0e4573-c7ec-486e-8c6e-078498ffe285",
   "metadata": {},
   "outputs": [
    {
     "name": "stdout",
     "output_type": "stream",
     "text": [
      "Reject the Null Hypothesis\n"
     ]
    }
   ],
   "source": [
    "if f_test > critical_value:\n",
    "    print(\"Reject the Null Hypothesis\")\n",
    "else:\n",
    "    print(\"We fail to reject the Null Hypothesis\")"
   ]
  },
  {
   "cell_type": "code",
   "execution_count": null,
   "id": "5061425e-cfb5-47c4-9bcb-2f78a2f77b78",
   "metadata": {},
   "outputs": [],
   "source": []
  }
 ],
 "metadata": {
  "kernelspec": {
   "display_name": "Python 3 (ipykernel)",
   "language": "python",
   "name": "python3"
  },
  "language_info": {
   "codemirror_mode": {
    "name": "ipython",
    "version": 3
   },
   "file_extension": ".py",
   "mimetype": "text/x-python",
   "name": "python",
   "nbconvert_exporter": "python",
   "pygments_lexer": "ipython3",
   "version": "3.10.8"
  }
 },
 "nbformat": 4,
 "nbformat_minor": 5
}
