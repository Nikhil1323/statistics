{
 "cells": [
  {
   "cell_type": "markdown",
   "id": "6710ea29-2a30-4628-871f-f0b0f04cc1c5",
   "metadata": {},
   "source": [
    "# Chi Square Test with Python"
   ]
  },
  {
   "cell_type": "code",
   "execution_count": 1,
   "id": "75c5779e-a1cd-4f2f-9c90-0124d8b2100c",
   "metadata": {},
   "outputs": [],
   "source": [
    "import scipy.stats as stat\n",
    "import numpy as np"
   ]
  },
  {
   "cell_type": "code",
   "execution_count": 5,
   "id": "b79d5fe7-c657-4028-8544-d9b7cec95daf",
   "metadata": {},
   "outputs": [],
   "source": [
    "## No of Hours students study in a weekly basis daily\n",
    "## monday, tuesday, wednesday, thursday, friday, saturday, sunday\n",
    "expected_data = [8,6,7,9,6,9,7]\n",
    "observed_data = [7,8,6,9,9,6,7]"
   ]
  },
  {
   "cell_type": "code",
   "execution_count": 6,
   "id": "cb3dce73-cde5-4029-b8c4-af373a3a0183",
   "metadata": {},
   "outputs": [
    {
     "data": {
      "text/plain": [
       "(52, 52)"
      ]
     },
     "execution_count": 6,
     "metadata": {},
     "output_type": "execute_result"
    }
   ],
   "source": [
    "sum(expected_data),sum(observed_data)"
   ]
  },
  {
   "cell_type": "code",
   "execution_count": 7,
   "id": "3c6ea874-2b83-4261-9044-4a28891a198e",
   "metadata": {},
   "outputs": [],
   "source": [
    "## CHI -Square Goodness of Fit Test\n",
    "chisquare_test_statistics,p_value = stat.chisquare(observed_data,expected_data)"
   ]
  },
  {
   "cell_type": "code",
   "execution_count": 8,
   "id": "e80caad9-9537-4ccf-a2b2-4e169c782c12",
   "metadata": {},
   "outputs": [
    {
     "data": {
      "text/plain": [
       "(3.4345238095238093, 0.7526596580922865)"
      ]
     },
     "execution_count": 8,
     "metadata": {},
     "output_type": "execute_result"
    }
   ],
   "source": [
    "chisquare_test_statistics,p_value"
   ]
  },
  {
   "cell_type": "code",
   "execution_count": 15,
   "id": "925e529c-ecda-4b6b-bdce-aa7476f9ad5b",
   "metadata": {},
   "outputs": [],
   "source": [
    "## Find the critical value\n",
    "significance_value = 0.05\n",
    "dof = len(expected_data) - 1\n",
    "critical_value = stat.chi2.ppf(1-significance_value,dof)"
   ]
  },
  {
   "cell_type": "code",
   "execution_count": 16,
   "id": "4958cdb8-6240-47a9-9320-b108057fa9db",
   "metadata": {},
   "outputs": [
    {
     "data": {
      "text/plain": [
       "12.591587243743977"
      ]
     },
     "execution_count": 16,
     "metadata": {},
     "output_type": "execute_result"
    }
   ],
   "source": [
    "critical_value"
   ]
  },
  {
   "cell_type": "code",
   "execution_count": 17,
   "id": "4f301908-6795-4cde-8fe0-38422a7cf4e4",
   "metadata": {},
   "outputs": [
    {
     "name": "stdout",
     "output_type": "stream",
     "text": [
      "Accept the Null Hypothesis\n"
     ]
    }
   ],
   "source": [
    "if chisquare_test_statistics > critical_value:\n",
    "    print(\"Reject Null Hypothesis\")\n",
    "else:\n",
    "    print(\"Accept the Null Hypothesis\")"
   ]
  },
  {
   "cell_type": "code",
   "execution_count": null,
   "id": "873710e6-adb6-4135-b34f-316380549c40",
   "metadata": {},
   "outputs": [],
   "source": []
  }
 ],
 "metadata": {
  "kernelspec": {
   "display_name": "Python 3 (ipykernel)",
   "language": "python",
   "name": "python3"
  },
  "language_info": {
   "codemirror_mode": {
    "name": "ipython",
    "version": 3
   },
   "file_extension": ".py",
   "mimetype": "text/x-python",
   "name": "python",
   "nbconvert_exporter": "python",
   "pygments_lexer": "ipython3",
   "version": "3.10.8"
  }
 },
 "nbformat": 4,
 "nbformat_minor": 5
}
